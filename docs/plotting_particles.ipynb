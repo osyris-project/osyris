{
 "cells": [
  {
   "cell_type": "markdown",
   "metadata": {},
   "source": [
    "# Plotting: particles\n",
    "\n",
    "In this notebook, we will load a cosmological simulation and visualize the dark matter particles within it.\n",
    "\n",
    "## A basic look at the particle positions"
   ]
  },
  {
   "cell_type": "code",
   "execution_count": null,
   "metadata": {},
   "outputs": [],
   "source": [
    "import osyris\n",
    "\n",
    "path = \"osyrisdata/cosmology\"\n",
    "data = osyris.RamsesDataset(100, path=path).load(\"part\")"
   ]
  },
  {
   "cell_type": "markdown",
   "metadata": {},
   "source": [
    "We convert the particle masses to solar masses, and their positions to megaparsecs:"
   ]
  },
  {
   "cell_type": "code",
   "execution_count": null,
   "metadata": {},
   "outputs": [],
   "source": [
    "part = data[\"part\"]\n",
    "\n",
    "part[\"mass\"] = part[\"mass\"].to(\"M_sun\")\n",
    "part[\"position\"] = part[\"position\"].to(\"Mpc\")\n",
    "part"
   ]
  },
  {
   "cell_type": "markdown",
   "metadata": {},
   "source": [
    "Having loaded the particle data,\n",
    "we can quickly inspect the distribution of the particles by histogramming their `x` and `y` positions.\n",
    "We use the particle mass as weights for the histogramming,\n",
    "to give us a feel for how much mass is contained in one of the pixels of the image below."
   ]
  },
  {
   "cell_type": "code",
   "execution_count": null,
   "metadata": {},
   "outputs": [],
   "source": [
    "osyris.hist2d(\n",
    "    part[\"position\"].x,\n",
    "    part[\"position\"].y,\n",
    "    part[\"mass\"],\n",
    "    bins=512,\n",
    "    norm=\"log\",\n",
    ")"
   ]
  },
  {
   "cell_type": "markdown",
   "metadata": {},
   "source": [
    "## Sorting particles\n",
    "\n",
    "When particles are loaded, they are read in in the order they are stored on disk.\n",
    "It can however often be useful to sort particles according to one of the keys.\n",
    "A common choice is to sort them according to their `identity` using the `.sortby()` method of the `Datagroup`."
   ]
  },
  {
   "cell_type": "code",
   "execution_count": null,
   "metadata": {},
   "outputs": [],
   "source": [
    "print(part[\"identity\"][:20].values)\n",
    "part.sortby(\"identity\")\n",
    "print(part[\"identity\"][:20].values)"
   ]
  },
  {
   "cell_type": "markdown",
   "metadata": {},
   "source": [
    "It is also possible to apply sorting by using a keyword argument in the `load()` function:"
   ]
  },
  {
   "cell_type": "code",
   "execution_count": null,
   "metadata": {},
   "outputs": [],
   "source": [
    "data = osyris.RamsesDataset(100, path=path).load(\"part\", sortby={\"part\": \"identity\"})\n",
    "print(data[\"part\"][\"identity\"][:20].values)"
   ]
  },
  {
   "cell_type": "markdown",
   "metadata": {},
   "source": [
    "## 3D rendering\n",
    "\n",
    "Osyris does not support 3D plotting out of the box,\n",
    "but a 3D rendering of the particle positions in space can be achieved relatively easily in a Jupyter notebook using the `pythreejs` library\n",
    "(or any other library with 3D capabilities)."
   ]
  },
  {
   "cell_type": "markdown",
   "metadata": {},
   "source": [
    "<div class=\"alert alert-info\">\n",
    "\n",
    "**Note**\n",
    "\n",
    "`pythreejs` is not a hard-dependency of Osyris. It needs to be installed separatey with `pip install pythreejs`.\n",
    "\n",
    "</div>"
   ]
  },
  {
   "cell_type": "code",
   "execution_count": null,
   "metadata": {},
   "outputs": [],
   "source": [
    "import pythreejs as p3\n",
    "import numpy as np\n",
    "\n",
    "# Only plot one in 10 points to reduce the size of the output\n",
    "pos = part[\"position\"][::10]\n",
    "pos_array = np.array([pos.x.values, pos.y.values, pos.z.values]).T.astype(\"float32\")\n",
    "\n",
    "# Create a position buffer geometry\n",
    "geometry = p3.BufferGeometry(\n",
    "    attributes={\"position\": p3.BufferAttribute(array=pos_array - 75)}\n",
    ")\n",
    "# Create a points material\n",
    "material = p3.PointsMaterial(color=\"black\", size=1)\n",
    "# Combine the geometry and material into a Points object\n",
    "points = p3.Points(geometry=geometry, material=material)\n",
    "\n",
    "# Create the scene and the renderer\n",
    "view_width = 700\n",
    "view_height = 500\n",
    "camera = p3.PerspectiveCamera(position=[200.0, 0, 0], aspect=view_width / view_height)\n",
    "scene = p3.Scene(children=[points, camera], background=\"#DDDDDD\")\n",
    "controller = p3.OrbitControls(controlling=camera)\n",
    "renderer = p3.Renderer(\n",
    "    camera=camera,\n",
    "    scene=scene,\n",
    "    controls=[controller],\n",
    "    width=view_width,\n",
    "    height=view_height,\n",
    ")\n",
    "renderer"
   ]
  }
 ],
 "metadata": {
  "kernelspec": {
   "display_name": "Python 3 (ipykernel)",
   "language": "python",
   "name": "python3"
  },
  "language_info": {
   "codemirror_mode": {
    "name": "ipython",
    "version": 3
   },
   "file_extension": ".py",
   "mimetype": "text/x-python",
   "name": "python",
   "nbconvert_exporter": "python",
   "pygments_lexer": "ipython3"
  }
 },
 "nbformat": 4,
 "nbformat_minor": 4
}
