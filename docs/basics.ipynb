{
 "cells": [
  {
   "cell_type": "markdown",
   "metadata": {},
   "source": [
    "# Basics\n",
    "\n",
    "This notebook provides a quick introduction on how to get started with loading a simulation output and creating some basic figures.\n",
    "\n",
    "The data files used in these documentation pages can be found [here](https://github.com/osyris-project/osyrisdata)."
   ]
  },
  {
   "cell_type": "markdown",
   "metadata": {},
   "source": [
    "## Reading a RAMSES output\n",
    "\n",
    "Import the `osyris` module and load the output of your choice.\n",
    "We are loading output number `8` from a simulation of a collapsing system of gas,\n",
    "that is forming young stars in its core."
   ]
  },
  {
   "cell_type": "markdown",
   "metadata": {},
   "source": [
    "<div class=\"alert alert-warning\">\n",
    "\n",
    "**IMPORTANT**\n",
    "\n",
    "The data loader searches for descriptor files (`hydro_file_descriptor.txt`, `rt_file_descriptor` and the like)\n",
    "inside the output directory to get the variable names.\n",
    "\n",
    "If your version of RAMSES does not support this (the file descriptor did not exist in old versions of RAMSES),\n",
    "you will need to generate one and copy it into each of your output directories.\n",
    "\n",
    "</div>"
   ]
  },
  {
   "cell_type": "code",
   "execution_count": null,
   "metadata": {},
   "outputs": [],
   "source": [
    "import osyris\n",
    "import numpy as np"
   ]
  },
  {
   "cell_type": "code",
   "execution_count": null,
   "metadata": {},
   "outputs": [],
   "source": [
    "data = osyris.RamsesDataset(8, path=\"osyrisdata/starformation\")"
   ]
  },
  {
   "cell_type": "markdown",
   "metadata": {},
   "source": [
    "When creating a `RamsesDataset`, the first argument is the output number. \n",
    "**Note** that you can use `-1` to select the last output in the directory. \n",
    "\n",
    "Upon creation, the `Dataset` only reads the simulation metadata,\n",
    "and does not load the bulk of the simulation data.\n",
    "\n",
    "To actually load the data, we call the `load()` method on the `Dataset`.\n",
    "The `Dataset` has a `__str__` representation,\n",
    "which will return a list of all the variables contained in the loaded file,\n",
    "along with their minimum and maximum values."
   ]
  },
  {
   "cell_type": "code",
   "execution_count": null,
   "metadata": {},
   "outputs": [],
   "source": [
    "data.load()"
   ]
  },
  {
   "cell_type": "markdown",
   "metadata": {},
   "source": [
    "The `Dataset` behaves very much like a Python dictionary.\n",
    "The data it contains is divided into `Datagroups`,\n",
    "which can be accessed just like accessing elements of a dictionary."
   ]
  },
  {
   "cell_type": "code",
   "execution_count": null,
   "metadata": {},
   "outputs": [],
   "source": [
    "data.keys()"
   ]
  },
  {
   "cell_type": "markdown",
   "metadata": {},
   "source": [
    "To access a single variable array, we access entries in a `Datagroup` in the same way:"
   ]
  },
  {
   "cell_type": "code",
   "execution_count": null,
   "metadata": {},
   "outputs": [],
   "source": [
    "data[\"mesh\"][\"density\"]"
   ]
  },
  {
   "cell_type": "markdown",
   "metadata": {},
   "source": [
    "The information printed is the name of the variable, its minimum and maximum value,\n",
    "its physical unit, and the number of elements (or cells) in the array.\n",
    "\n",
    "## Creating a 2D histogram\n",
    "\n",
    "We now wish to plot a 2d histogram of the logarithm of density versus logarithm of magnetic field magnitude,\n",
    "for all the cells inside the computational domain.\n",
    "We also use a logarithmic colormap which represents the cell counts in the $(\\rho,B)$ plane"
   ]
  },
  {
   "cell_type": "code",
   "execution_count": null,
   "metadata": {},
   "outputs": [],
   "source": [
    "osyris.hist2d(data[\"mesh\"][\"density\"], data[\"mesh\"][\"B_field\"], norm=\"log\", loglog=True)"
   ]
  },
  {
   "cell_type": "markdown",
   "metadata": {},
   "source": [
    "## Simple 2D map\n",
    "\n",
    "The goal here is to create a 2D gas density slice, 2000 au wide, through the plane normal to `z`,\n",
    "that passes through the center of the young star forming system.\n",
    "\n",
    "We first need to define where the center of the system is.\n",
    "A simple definition is to use the coordinate of the cell with the highest density in the simulation."
   ]
  },
  {
   "cell_type": "code",
   "execution_count": null,
   "metadata": {},
   "outputs": [],
   "source": [
    "mesh = data[\"mesh\"]\n",
    "ind = np.argmax(mesh[\"density\"])\n",
    "center = mesh[\"position\"][ind]\n",
    "center"
   ]
  },
  {
   "cell_type": "markdown",
   "metadata": {},
   "source": [
    "Once we have this center coordinate, we can use it as the origin for our cut plane and create a map:"
   ]
  },
  {
   "cell_type": "code",
   "execution_count": null,
   "metadata": {},
   "outputs": [],
   "source": [
    "osyris.map(\n",
    "    mesh.layer(\"density\"),\n",
    "    dx=2000 * osyris.units(\"au\"),\n",
    "    norm=\"log\",\n",
    "    origin=center,\n",
    "    direction=\"z\",\n",
    ")"
   ]
  },
  {
   "cell_type": "markdown",
   "metadata": {},
   "source": [
    "where the first argument is the variable to display, `dx` is the extent of the viewing region,\n",
    "and `direction` is the normal to the slicing plane."
   ]
  }
 ],
 "metadata": {
  "kernelspec": {
   "display_name": "Python 3 (ipykernel)",
   "language": "python",
   "name": "python3"
  },
  "language_info": {
   "codemirror_mode": {
    "name": "ipython",
    "version": 3
   },
   "file_extension": ".py",
   "mimetype": "text/x-python",
   "name": "python",
   "nbconvert_exporter": "python",
   "pygments_lexer": "ipython3"
  }
 },
 "nbformat": 4,
 "nbformat_minor": 4
}
