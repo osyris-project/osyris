{
 "cells": [
  {
   "cell_type": "markdown",
   "metadata": {},
   "source": [
    "# Loading Ramses data"
   ]
  },
  {
   "cell_type": "code",
   "execution_count": null,
   "metadata": {},
   "outputs": [],
   "source": [
    "import numpy as np\n",
    "import osyris"
   ]
  },
  {
   "cell_type": "markdown",
   "metadata": {},
   "source": [
    "## Loading a Ramses output\n",
    "\n",
    "We load a data output from a star formation simulation"
   ]
  },
  {
   "cell_type": "code",
   "execution_count": null,
   "metadata": {},
   "outputs": [],
   "source": [
    "path = \"osyrisdata/starformation\"\n",
    "data = osyris.RamsesDataset(8, path=path).load()"
   ]
  },
  {
   "cell_type": "markdown",
   "metadata": {},
   "source": [
    "and show a 2D histogram of the gas density versus the magnetic field strength"
   ]
  },
  {
   "cell_type": "code",
   "execution_count": null,
   "metadata": {},
   "outputs": [],
   "source": [
    "osyris.hist2d(data[\"mesh\"][\"density\"], data[\"mesh\"][\"B_field\"], norm=\"log\", loglog=True)"
   ]
  },
  {
   "cell_type": "markdown",
   "metadata": {},
   "source": [
    "## Selective loading\n",
    "\n",
    "### Filtering on cell values\n",
    "\n",
    "It is possible to load only a subset of the cells, by using custom functions to perform the selection.\n",
    "\n",
    "As an example, to load all the cells with $\\rho > 10^{-15}~{\\rm g~cm}^{-3}$, we use a selection criterion"
   ]
  },
  {
   "cell_type": "code",
   "execution_count": null,
   "metadata": {},
   "outputs": [],
   "source": [
    "data = osyris.RamsesDataset(8, path=path).load(\n",
    "    select={\"mesh\": {\"density\": lambda d: d > 1.0e-15 * osyris.units(\"g/cm**3\")}}\n",
    ")"
   ]
  },
  {
   "cell_type": "markdown",
   "metadata": {},
   "source": [
    "and we can now see in the resulting histogram that all the low-density cells have been left out:"
   ]
  },
  {
   "cell_type": "code",
   "execution_count": null,
   "metadata": {},
   "outputs": [],
   "source": [
    "osyris.hist2d(data[\"mesh\"][\"density\"], data[\"mesh\"][\"B_field\"], norm=\"log\", loglog=True)"
   ]
  },
  {
   "cell_type": "markdown",
   "metadata": {},
   "source": [
    "Multiple selection criteria are ANDed:"
   ]
  },
  {
   "cell_type": "code",
   "execution_count": null,
   "metadata": {},
   "outputs": [],
   "source": [
    "data = osyris.RamsesDataset(8, path=path).load(\n",
    "    select={\n",
    "        \"mesh\": {\n",
    "            \"density\": lambda d: d > 1.0e-16 * osyris.units(\"g/cm**3\"),\n",
    "            \"position_x\": lambda x: x > 1500.0 * osyris.units(\"au\"),\n",
    "        },\n",
    "    }\n",
    ")"
   ]
  },
  {
   "cell_type": "code",
   "execution_count": null,
   "metadata": {},
   "outputs": [],
   "source": [
    "osyris.map(\n",
    "    data[\"mesh\"].layer(\"density\"),\n",
    "    dx=1000 * osyris.units(\"au\"),\n",
    "    origin=data[\"mesh\"][\"position\"][np.argmax(data[\"mesh\"][\"density\"])],\n",
    "    direction=\"z\",\n",
    "    norm=\"log\",\n",
    ")"
   ]
  },
  {
   "cell_type": "markdown",
   "metadata": {},
   "source": [
    "### Only loading certain groups or variables\n",
    "\n",
    "It is also possible to select which groups to load.\n",
    "The different groups for the present simulation are `mesh`, `part`, and `sink`.\n",
    "For example, to load only the `mesh` and `sink` groups, use"
   ]
  },
  {
   "cell_type": "code",
   "execution_count": null,
   "metadata": {},
   "outputs": [],
   "source": [
    "data = osyris.RamsesDataset(8, path=path).load([\"mesh\", \"sink\"])\n",
    "data.keys()"
   ]
  },
  {
   "cell_type": "markdown",
   "metadata": {},
   "source": [
    "It is also possible to load only certain variables in a group by listing them in the same way:"
   ]
  },
  {
   "cell_type": "code",
   "execution_count": null,
   "metadata": {},
   "outputs": [],
   "source": [
    "data = osyris.RamsesDataset(8, path=path).load(\n",
    "    select={\"mesh\": [\"density\", \"position_x\", \"velocity_y\"]}\n",
    ")\n",
    "data[\"mesh\"].keys()"
   ]
  },
  {
   "cell_type": "markdown",
   "metadata": {},
   "source": [
    "### Selecting AMR levels\n",
    "\n",
    "Selecting AMR levels uses the same syntax as selecting other variables,\n",
    "but works slightly differently under the hood.\n",
    "A maximum level will be found by testing the selection function provided,\n",
    "and only the required levels will be traversed by the loader,\n",
    "thus speeding up the loading process.\n",
    "\n",
    "Hence,"
   ]
  },
  {
   "cell_type": "code",
   "execution_count": null,
   "metadata": {},
   "outputs": [],
   "source": [
    "data = osyris.RamsesDataset(8, path=path).load(\n",
    "    select={\"mesh\": {\"level\": lambda l: l < 7}}\n",
    ")\n",
    "data[\"mesh\"][\"level\"]"
   ]
  },
  {
   "cell_type": "markdown",
   "metadata": {},
   "source": [
    "will only read levels 1 to 6, while"
   ]
  },
  {
   "cell_type": "code",
   "execution_count": null,
   "metadata": {},
   "outputs": [],
   "source": [
    "data = osyris.RamsesDataset(8, path=path).load(\n",
    "    select={\"mesh\": {\"level\": lambda l: np.logical_and(l > 5, l < 9)}}\n",
    ")\n",
    "data[\"mesh\"][\"level\"]"
   ]
  },
  {
   "cell_type": "markdown",
   "metadata": {},
   "source": [
    "will read levels 1 to 8, but will then discard all cells with `level` < 6.\n",
    "\n",
    "### Loading only selected CPU outputs\n",
    "\n",
    "It is also possible to feed a list of CPU numbers to read from."
   ]
  },
  {
   "cell_type": "code",
   "execution_count": null,
   "metadata": {},
   "outputs": [],
   "source": [
    "data = osyris.RamsesDataset(8, path=path).load(cpu_list=[1, 2, 10, 4, 5])"
   ]
  },
  {
   "cell_type": "code",
   "execution_count": null,
   "metadata": {},
   "outputs": [],
   "source": [
    "osyris.map(\n",
    "    data[\"mesh\"].layer(\"density\"),\n",
    "    dx=2000 * osyris.units(\"au\"),\n",
    "    origin=data[\"mesh\"][\"position\"][np.argmax(data[\"mesh\"][\"density\"])],\n",
    "    direction=\"z\",\n",
    "    norm=\"log\",\n",
    ")"
   ]
  },
  {
   "cell_type": "markdown",
   "metadata": {},
   "source": [
    "<div class=\"alert alert-info\">\n",
    "\n",
    "**Note**\n",
    "\n",
    "When performing a selection (using `select`) on spatial position `x`, `y`, or `z`,\n",
    "and if the ordering of the cells in the AMR mesh is using the Hilbert curve,\n",
    "then a pre-selection is automatically made on the CPU files to load to speed-up the loading.\n",
    "\n",
    "</div>"
   ]
  },
  {
   "cell_type": "markdown",
   "metadata": {},
   "source": [
    "## Example: loading a region around a sink particle\n",
    "\n",
    "Combining some of the methods illustrated above,\n",
    "we show here how to load only a small region 400 AU wide around a sink particle.\n",
    "\n",
    "We begin by loading only the sink particle data, by using `select=['sink']` in the `load` method:"
   ]
  },
  {
   "cell_type": "code",
   "execution_count": null,
   "metadata": {},
   "outputs": [],
   "source": [
    "data = osyris.RamsesDataset(8, path=path).load(select=[\"sink\"])\n",
    "data"
   ]
  },
  {
   "cell_type": "markdown",
   "metadata": {},
   "source": [
    "The `sink` data group contains the positions of the sink particles.\n",
    "We wish to load the region around the first sink particle, which will be the center of our domain."
   ]
  },
  {
   "cell_type": "code",
   "execution_count": null,
   "metadata": {},
   "outputs": [],
   "source": [
    "center = data[\"sink\"][\"position\"][0]\n",
    "dx = 200 * osyris.units(\"au\")"
   ]
  },
  {
   "cell_type": "markdown",
   "metadata": {},
   "source": [
    "We are now in a position to load the rest of the data (`amr`, `hydro`, etc.)\n",
    "and perform a spatial selection based on the sink's position\n",
    "(note how the loading below is only looking through 6 files, as opposed to 12 at the top of the notebook,\n",
    "because it uses the knowledge from the Hilbert space-filling curve to skip CPUs that are not connected\n",
    "to the domain of interest)."
   ]
  },
  {
   "cell_type": "code",
   "execution_count": null,
   "metadata": {},
   "outputs": [],
   "source": [
    "data.load(\n",
    "    select={\n",
    "        \"mesh\": {\n",
    "            \"position_x\": lambda x: (x > center.x - dx) & (x < center.x + dx),\n",
    "            \"position_y\": lambda y: (y > center.y - dx) & (y < center.y + dx),\n",
    "            \"position_z\": lambda z: (z > center.z - dx) & (z < center.z + dx),\n",
    "        }\n",
    "    }\n",
    ")"
   ]
  },
  {
   "cell_type": "markdown",
   "metadata": {},
   "source": [
    "Finally, we can make a map of the gas density around our sink particle\n",
    "(note that no spatial limits are specified in the `map` call,\n",
    "it is making a map using all the cells that have been loaded)"
   ]
  },
  {
   "cell_type": "code",
   "execution_count": null,
   "metadata": {},
   "outputs": [],
   "source": [
    "osyris.map(\n",
    "    data[\"mesh\"].layer(\"density\"),\n",
    "    data[\"sink\"].layer(\n",
    "        \"position\",\n",
    "        mode=\"scatter\",\n",
    "        c=\"white\",\n",
    "        s=20.0 * osyris.units(\"au\"),\n",
    "        alpha=0.7,\n",
    "    ),\n",
    "    norm=\"log\",\n",
    "    direction=\"z\",\n",
    "    origin=center,\n",
    ")"
   ]
  }
 ],
 "metadata": {
  "kernelspec": {
   "display_name": "Python 3 (ipykernel)",
   "language": "python",
   "name": "python3"
  },
  "language_info": {
   "codemirror_mode": {
    "name": "ipython",
    "version": 3
   },
   "file_extension": ".py",
   "mimetype": "text/x-python",
   "name": "python",
   "nbconvert_exporter": "python",
   "pygments_lexer": "ipython3"
  }
 },
 "nbformat": 4,
 "nbformat_minor": 4
}
