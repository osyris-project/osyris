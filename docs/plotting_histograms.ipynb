{
 "cells": [
  {
   "cell_type": "markdown",
   "metadata": {},
   "source": [
    "# Plotting: histograms\n",
    "\n",
    "In this notebook, we illustrate the possibilities of plotting 1D and 2D histograms.\n",
    "\n",
    "Note that Osyris's plotting functions are wrapping Matplotlib's plotting functions,\n",
    "and forwards most Matplotlib arguments to the underlying function."
   ]
  },
  {
   "cell_type": "code",
   "execution_count": null,
   "metadata": {},
   "outputs": [],
   "source": [
    "import osyris\n",
    "import numpy as np\n",
    "import matplotlib.pyplot as plt\n",
    "\n",
    "path = \"osyrisdata/starformation\"\n",
    "data = osyris.RamsesDataset(8, path=path).load()\n",
    "mesh = data[\"mesh\"]"
   ]
  },
  {
   "cell_type": "markdown",
   "metadata": {},
   "source": [
    "## 1D histograms\n",
    "\n",
    "The `hist1d` function provides a simple way to make 1D histogram plots.\n",
    "When a vector quantity is supplied, by default `hist1d` will use the norm of the vectors.\n",
    "\n",
    "### A 1D histogram of gas density\n",
    "\n",
    "For example, to plot a histogram of the gas density, simply do"
   ]
  },
  {
   "cell_type": "code",
   "execution_count": null,
   "metadata": {},
   "outputs": [],
   "source": [
    "osyris.hist1d(mesh[\"density\"], logx=True)"
   ]
  },
  {
   "cell_type": "markdown",
   "metadata": {},
   "source": [
    "### Specifying the bins\n",
    "\n",
    "The bin edges can be specified using the `bins` parameter,\n",
    "which can either be an integer number or an array (similarly to Numpy's `bins` argument):"
   ]
  },
  {
   "cell_type": "code",
   "execution_count": null,
   "metadata": {},
   "outputs": [],
   "source": [
    "osyris.hist1d(mesh[\"density\"], logx=True, bins=np.logspace(-18.0, -13.0, 10))"
   ]
  },
  {
   "cell_type": "markdown",
   "metadata": {},
   "source": [
    "### Weighted histogram\n",
    "\n",
    "By default, `hist1d` will show a binned count of cells, but it does also support weights.\n",
    "For example, creating a mass-weighted histogram of the gas density can be achieved via"
   ]
  },
  {
   "cell_type": "code",
   "execution_count": null,
   "metadata": {},
   "outputs": [],
   "source": [
    "mesh[\"mass\"] = (mesh[\"density\"] * (mesh[\"dx\"] ** 3)).to(\"M_sun\")\n",
    "osyris.hist1d(mesh[\"density\"], weights=mesh[\"mass\"], logx=True)"
   ]
  },
  {
   "cell_type": "markdown",
   "metadata": {},
   "source": [
    "### Multiple 1D histograms\n",
    "\n",
    "Multiple histograms can be over-plotted on the same axes by using multiple layers:"
   ]
  },
  {
   "cell_type": "code",
   "execution_count": null,
   "metadata": {
    "tags": []
   },
   "outputs": [],
   "source": [
    "bins = np.linspace(-0.15, 0.15, 40)\n",
    "osyris.hist1d(\n",
    "    mesh.layer(\"B_field\", alpha=0.5).x,\n",
    "    mesh.layer(\"B_field\", alpha=0.5).y,\n",
    "    mesh.layer(\"B_field\", alpha=0.5).z,\n",
    "    logy=True,\n",
    "    bins=bins,\n",
    ")"
   ]
  },
  {
   "cell_type": "markdown",
   "metadata": {},
   "source": [
    "It is also possible to specify different bins for different layers:"
   ]
  },
  {
   "cell_type": "code",
   "execution_count": null,
   "metadata": {},
   "outputs": [],
   "source": [
    "osyris.hist1d(\n",
    "    mesh.layer(\"B_field\", alpha=0.5, bins=40).x,\n",
    "    mesh.layer(\"B_field\", alpha=0.5, bins=10).y,\n",
    "    logy=True,\n",
    ")"
   ]
  },
  {
   "cell_type": "markdown",
   "metadata": {},
   "source": [
    "## 2D histograms\n",
    "\n",
    "The `hist2d` function can be used to make 2D histograms with two different quantities as input.\n",
    "When a vector quantity is supplied, by default `hist2d` will use the norm of the vectors\n",
    "\n",
    "### A 2D histogram of gas density vs magnetic field magnitude\n",
    "\n",
    "To create a 2D histogram of gas density vs magnetic field magnitude, use"
   ]
  },
  {
   "cell_type": "code",
   "execution_count": null,
   "metadata": {},
   "outputs": [],
   "source": [
    "osyris.hist2d(mesh[\"density\"], mesh[\"B_field\"], norm=\"log\", loglog=True)"
   ]
  },
  {
   "cell_type": "markdown",
   "metadata": {},
   "source": [
    "### Changing the colorscale\n",
    "\n",
    "The colormap and the range of values can be changed as follows. "
   ]
  },
  {
   "cell_type": "code",
   "execution_count": null,
   "metadata": {},
   "outputs": [],
   "source": [
    "osyris.hist2d(\n",
    "    mesh[\"density\"],\n",
    "    mesh[\"B_field\"],\n",
    "    norm=\"log\",\n",
    "    loglog=True,\n",
    "    cmap=\"magma\",\n",
    "    vmin=10.0,\n",
    "    vmax=1000.0,\n",
    ")"
   ]
  },
  {
   "cell_type": "markdown",
   "metadata": {},
   "source": [
    "### Controlling the horizontal and vertical range\n",
    "\n",
    "To control the range covered by the horizontal and vertical binning,\n",
    "specify the bins manually."
   ]
  },
  {
   "cell_type": "code",
   "execution_count": null,
   "metadata": {},
   "outputs": [],
   "source": [
    "osyris.hist2d(\n",
    "    mesh[\"density\"],\n",
    "    mesh[\"B_field\"],\n",
    "    norm=\"log\",\n",
    "    loglog=True,\n",
    "    bins=(np.logspace(-19, -16, 301), np.logspace(-5, -3, 301)),\n",
    ")"
   ]
  },
  {
   "cell_type": "markdown",
   "metadata": {},
   "source": [
    "### Using a layer for the colormap instead of counting cells\n",
    "\n",
    "By default, `hist2d` will show a binned count of cells.\n",
    "However, the colors can represent the histogram of a supplied `Array` instead."
   ]
  },
  {
   "cell_type": "code",
   "execution_count": null,
   "metadata": {},
   "outputs": [],
   "source": [
    "osyris.hist2d(\n",
    "    mesh[\"density\"],\n",
    "    mesh[\"B_field\"],\n",
    "    mesh.layer(\"mass\", norm=\"log\"),\n",
    "    loglog=True,\n",
    ")"
   ]
  },
  {
   "cell_type": "markdown",
   "metadata": {},
   "source": [
    "### Applying a mean operation inside each bin\n",
    "\n",
    "By default, the sum of the layer values in computed inside each bin.\n",
    "It can sometimes be useful to compute the mean inside each bin instead,\n",
    "and this can be done by setting `operation='mean'`.\n",
    "\n",
    "For example, we can get a feel for the resolution distribution in our histogram by histogramming the AMR `level` of the cells,\n",
    "and applying a `'mean'` operation inside the pixels."
   ]
  },
  {
   "cell_type": "code",
   "execution_count": null,
   "metadata": {},
   "outputs": [],
   "source": [
    "osyris.hist2d(\n",
    "    mesh[\"density\"],\n",
    "    mesh[\"B_field\"],\n",
    "    mesh.layer(\"level\", operation=\"mean\"),\n",
    "    loglog=True,\n",
    ")"
   ]
  },
  {
   "cell_type": "markdown",
   "metadata": {},
   "source": [
    "### Multiple layers\n",
    "\n",
    "One can use any number of layers to overlay, although anything beyond two layers is probably not very useful."
   ]
  },
  {
   "cell_type": "code",
   "execution_count": null,
   "metadata": {},
   "outputs": [],
   "source": [
    "osyris.hist2d(\n",
    "    mesh[\"density\"],\n",
    "    mesh[\"B_field\"],\n",
    "    mesh.layer(\"mass\", norm=\"log\"),  # layer 1\n",
    "    mesh.layer(\n",
    "        \"level\",\n",
    "        operation=\"mean\",\n",
    "        fmt=\"%i\",\n",
    "        mode=\"contour\",\n",
    "        colors=\"k\",\n",
    "        levels=[5, 6, 7, 8, 9],\n",
    "    ),  # layer 2\n",
    "    loglog=True,\n",
    ")"
   ]
  },
  {
   "cell_type": "markdown",
   "metadata": {},
   "source": [
    "### Controlling the resolution\n",
    "\n",
    "By default, the histograms have a resolution of 256x256 pixels.\n",
    "To change the resolution, we use the `bins` argument:"
   ]
  },
  {
   "cell_type": "code",
   "execution_count": null,
   "metadata": {},
   "outputs": [],
   "source": [
    "osyris.hist2d(\n",
    "    mesh[\"density\"],\n",
    "    mesh[\"B_field\"],\n",
    "    norm=\"log\",\n",
    "    loglog=True,\n",
    "    bins=64,\n",
    ")"
   ]
  },
  {
   "cell_type": "markdown",
   "metadata": {},
   "source": [
    "## Subplots / tiled plots\n",
    "\n",
    "Osyris has no built-in support for subplots (also known as tiled plots).\n",
    "Instead, we leverage Matplotlib's ability to create such layouts.\n",
    "Osyris plots are then inserted into the Matplotlib axes, using the `ax` argument.\n",
    "\n",
    "In the example below, we create four panels and insert various histograms."
   ]
  },
  {
   "cell_type": "code",
   "execution_count": null,
   "metadata": {},
   "outputs": [],
   "source": [
    "# Create figure\n",
    "import matplotlib.pyplot as plt\n",
    "\n",
    "fig, ax = plt.subplots(2, 2, figsize=(12, 9))\n",
    "\n",
    "osyris.hist1d(mesh[\"density\"], logx=True, ax=ax[0, 0])\n",
    "osyris.hist2d(\n",
    "    mesh[\"density\"],\n",
    "    mesh[\"B_field\"],\n",
    "    norm=\"log\",\n",
    "    loglog=True,\n",
    "    ax=ax[0, 1],\n",
    ")\n",
    "osyris.hist1d(\n",
    "    mesh[\"B_field\"].x,\n",
    "    mesh[\"B_field\"].y,\n",
    "    mesh[\"B_field\"].z,\n",
    "    alpha=0.5,\n",
    "    logy=True,\n",
    "    bins=np.linspace(-0.15, 0.15, 40),\n",
    "    ax=ax[1, 0],\n",
    ")\n",
    "osyris.hist2d(\n",
    "    mesh[\"density\"],\n",
    "    mesh[\"velocity\"],\n",
    "    mesh[\"mass\"],\n",
    "    norm=\"log\",\n",
    "    loglog=True,\n",
    "    cmap=\"magma\",\n",
    "    ax=ax[1, 1],\n",
    ")"
   ]
  }
 ],
 "metadata": {
  "kernelspec": {
   "display_name": "Python 3 (ipykernel)",
   "language": "python",
   "name": "python3"
  },
  "language_info": {
   "codemirror_mode": {
    "name": "ipython",
    "version": 3
   },
   "file_extension": ".py",
   "mimetype": "text/x-python",
   "name": "python",
   "nbconvert_exporter": "python",
   "pygments_lexer": "ipython3"
  }
 },
 "nbformat": 4,
 "nbformat_minor": 4
}
