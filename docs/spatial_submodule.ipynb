{
 "cells": [
  {
   "cell_type": "markdown",
   "id": "43198522-257e-47df-837d-6f36a670e5ad",
   "metadata": {},
   "source": [
    "# Spatial submodule"
   ]
  },
  {
   "cell_type": "markdown",
   "id": "a53fa5e4-959b-4dfd-8f78-789101c43c93",
   "metadata": {},
   "source": [
    "This submodule features tools to extract subdomains around an origin point, as well as the ability to perform ordinary coordinate transforms on vectors."
   ]
  },
  {
   "cell_type": "code",
   "execution_count": null,
   "id": "7ebd193e-7290-4c80-9ba6-02dda3953683",
   "metadata": {},
   "outputs": [],
   "source": [
    "import osyris\n",
    "import numpy as np\n",
    "import matplotlib.pyplot as plt\n",
    "\n",
    "au = osyris.units(\"au\")\n",
    "\n",
    "path = \"osyrisdata/starformation\"\n",
    "data = osyris.Dataset(8, path=path).load()\n",
    "ind = np.argmax(data[\"hydro\"][\"density\"])\n",
    "center = data[\"amr\"][\"position\"][ind]"
   ]
  },
  {
   "cell_type": "markdown",
   "id": "a6ef8fce-8871-4294-ab81-9b5e1382145c",
   "metadata": {},
   "source": [
    "## Subdomain extraction"
   ]
  },
  {
   "cell_type": "markdown",
   "id": "be6b49fc-4262-4318-851a-77a24ce53878",
   "metadata": {},
   "source": [
    "Extracting a subdomain returns a new dataset containing all cells, sink particles and particles **within** this subdomain. An 'origin' parameter specifies the coordinate from which the subdomain is extracted."
   ]
  },
  {
   "cell_type": "markdown",
   "id": "e2d04b83-b1da-4918-94d4-beca627f416a",
   "metadata": {},
   "source": [
    "### Extracting a spherical subdomain"
   ]
  },
  {
   "cell_type": "markdown",
   "id": "f928f539-cc41-4393-b729-b65f13cfbc46",
   "metadata": {},
   "source": [
    "Here we extract a spherical subdomain of radius 1000 AU around the central cell."
   ]
  },
  {
   "cell_type": "code",
   "execution_count": null,
   "id": "217e7ff8-e693-48bf-8ffa-74b6198bce5e",
   "metadata": {},
   "outputs": [],
   "source": [
    "subdomain = osyris.extract_sphere(data, radius=1e3*au, origin=center)"
   ]
  },
  {
   "cell_type": "code",
   "execution_count": null,
   "id": "11cf0e83-e408-45f7-9351-e9f9bd84c731",
   "metadata": {},
   "outputs": [],
   "source": [
    "osyris.map(subdomain[\"hydro\"][\"density\"], norm=\"log\",\n",
    "           dx=2000 * au, origin=center,\n",
    "           direction=\"z\")"
   ]
  },
  {
   "cell_type": "markdown",
   "id": "fedf1a51-f560-4042-99a9-a4d51b8e3e7e",
   "metadata": {},
   "source": [
    "### Extracting a cubic subdomain"
   ]
  },
  {
   "cell_type": "markdown",
   "id": "357d73ba-e35f-4817-bc28-645614bde842",
   "metadata": {},
   "source": [
    "Here, we extract all data within +/- 500 AU of the central cell in the x,y, and z directions."
   ]
  },
  {
   "cell_type": "code",
   "execution_count": null,
   "id": "eb837d80-8fb1-4bec-9a01-df093d8f7754",
   "metadata": {},
   "outputs": [],
   "source": [
    "subdomain = osyris.extract_box(data,\n",
    "                               xmin=-5e2*au, xmax=5e2*au,\n",
    "                               ymin=-5e2*au, ymax=5e2*au,\n",
    "                               zmin=-5e2*au, zmax=5e2*au,\n",
    "                               origin=center)\n",
    "\n",
    "osyris.map(subdomain[\"hydro\"][\"density\"], norm=\"log\",\n",
    "           dx=2000 * au, origin=center,\n",
    "           direction=\"z\")"
   ]
  },
  {
   "cell_type": "markdown",
   "id": "21da6627-7896-4066-b17b-d6be31128ba9",
   "metadata": {},
   "source": [
    "## Ordinary coordinate transforms"
   ]
  },
  {
   "cell_type": "markdown",
   "id": "3a33d2f0-2636-4db0-b52b-04de9b586998",
   "metadata": {},
   "source": [
    "### Changing origins"
   ]
  },
  {
   "cell_type": "markdown",
   "id": "0d3d4711-ab5c-4492-beee-24aa8107d43f",
   "metadata": {},
   "source": [
    "We can simply change the origin of our dataset with"
   ]
  },
  {
   "cell_type": "code",
   "execution_count": null,
   "id": "f82fa22b-9067-4651-975f-e6a24f127d3b",
   "metadata": {},
   "outputs": [],
   "source": [
    "osyris.translate(data, new_origin=center)"
   ]
  },
  {
   "cell_type": "markdown",
   "id": "cc410af5-b0a4-4bfd-b8a1-d70cc4803e59",
   "metadata": {},
   "source": [
    "This translates all **length vectors** in the dataset by -1*new_origin."
   ]
  },
  {
   "cell_type": "markdown",
   "id": "b85c0db4-21ec-4bba-b252-31d2c02470fe",
   "metadata": {},
   "source": [
    "### Changing basis"
   ]
  },
  {
   "cell_type": "markdown",
   "id": "587de66c-953b-43c9-ac75-b52db9895d7c",
   "metadata": {},
   "source": [
    "We can rotate datasets (or subdomains) using the **rotate** function. 'new_basis' is a vector specifying the z axis of the new geometric basis (eg. new_basis = [1,0,0] means the new z axis is oriented along the x axis of the original grid). Basis can also be either \"top\" and \"side\", meaning the new z axis can be aligned with the angular momentum vector, or perpendicular to it. This is particularly useful to compute azimuthal velocities for disks for example. Note however that you must pass the radius in which osyris will compute the angular momentum vector (dr_L)."
   ]
  },
  {
   "cell_type": "code",
   "execution_count": null,
   "id": "378ab5c6-e9d0-49fd-9ef0-b76953e95870",
   "metadata": {},
   "outputs": [],
   "source": [
    "osyris.rotate(data, new_basis = \"top\", dr_L = 1e3*au)"
   ]
  },
  {
   "cell_type": "markdown",
   "id": "e531aa79-4265-40cc-a3af-154f2dcd3d03",
   "metadata": {},
   "source": [
    "### Spherical & Cylindrical coordinates"
   ]
  },
  {
   "cell_type": "markdown",
   "id": "561b6972-f3f2-430b-90e1-2cfdfaf959e6",
   "metadata": {},
   "source": [
    "Spherical/cylindrical coordinates can be computed on Vectors simply by doing"
   ]
  },
  {
   "cell_type": "code",
   "execution_count": null,
   "id": "b4e2f2d3-0c20-4e22-9c02-fa465931da4d",
   "metadata": {},
   "outputs": [],
   "source": [
    "print(data[\"amr\"][\"position\"].r) # spherical radius\n",
    "print(data[\"amr\"][\"position\"].cyl_r) # cylindrical radius\n",
    "print(data[\"amr\"][\"position\"].theta) # colatitude\n",
    "print(data[\"amr\"][\"position\"].phi) # azimuth"
   ]
  },
  {
   "cell_type": "markdown",
   "id": "243a285b-de47-42b4-a443-c03f07f8346b",
   "metadata": {},
   "source": [
    "When doing these transformations, osyris checks wheter or not the units of the vector have the dimensions of a length, and if so, it returns $r$ (radius), $\\theta$ (colatitude), $\\phi$ (azimuth), or $r_{cyl}$ (cylindrical radius):\n",
    "\\begin{equation*}\n",
    "r = \\sqrt{x^2 + y^2 + z^2}\n",
    "\\end{equation*}\n",
    "\n",
    "\\begin{equation*}\n",
    "\\theta = arcos(\\frac{z}{r})\n",
    "\\end{equation*}\n",
    "\n",
    "\\begin{equation*}\n",
    "\\phi = arctan(\\frac{y}{x})\n",
    "\\end{equation*}\n",
    "\n",
    "\\begin{equation*}\n",
    "r_{cyl} = \\sqrt{x^2 + y^2}\n",
    "\\end{equation*}\n",
    "\n",
    "If not, osyris will compute the spherical/cylindrical **components** of the vector using a rotation matrix. This allows it to convert any arbitrary cartesian vector $F_{x,y,z}$ into its spherical counterpart $F_{r,\\theta,\\phi}$ through\n",
    "\n",
    "\\begin{equation*}\n",
    "\\begin{pmatrix}\n",
    "F_{r}\\\\\n",
    "F_{\\theta}\\\\\n",
    "F_{\\phi}\n",
    "\\end{pmatrix}\n",
    "=\n",
    "\\begin{pmatrix}\n",
    "sin(\\theta)cos(\\phi) & sin(\\theta)sin(\\phi) & cos(\\theta)\\\\\n",
    "cos(\\theta)cos(\\phi) & cos(\\theta)sin(\\phi) & -sin(\\theta)\\\\\n",
    "-sin(\\phi) & cos(\\phi) & 0\n",
    "\\end{pmatrix}\n",
    "\\begin{pmatrix}\n",
    "F_{x}\\\\\n",
    "F_{y}\\\\\n",
    "F_{z}\n",
    "\\end{pmatrix}\n",
    "\\end{equation*}\n",
    "\n",
    "and into its cylindrical counterpart $F_{r,\\phi,z}$ through\n",
    "\\begin{equation*}\n",
    "\\begin{pmatrix}\n",
    "F_{r}\\\\\n",
    "F_{\\phi}\\\\\n",
    "F_{z}\n",
    "\\end{pmatrix}\n",
    "=\n",
    "\\begin{pmatrix}\n",
    "cos(\\phi) & sin(\\phi) & 0\\\\\n",
    "-sin(\\phi) & cos(\\phi) & 0\\\\\n",
    "0 & 0 & 1\n",
    "\\end{pmatrix}\n",
    "\\begin{pmatrix}\n",
    "F_{x}\\\\\n",
    "F_{y}\\\\\n",
    "F_{z}\n",
    "\\end{pmatrix}\n",
    "\\end{equation*}"
   ]
  },
  {
   "cell_type": "code",
   "execution_count": null,
   "id": "29b3876b-4cf8-4476-8084-407e5a7851b5",
   "metadata": {},
   "outputs": [],
   "source": [
    "print(data[\"hydro\"][\"velocity\"].r) # radial velocity\n",
    "print(data[\"hydro\"][\"velocity\"].cyl_r) # cylindrical radial velocity (vr measured on x-y plane)\n",
    "print(data[\"hydro\"][\"velocity\"].theta) # meridonial velocity\n",
    "print(data[\"hydro\"][\"velocity\"].phi) # azimuthal velocity"
   ]
  },
  {
   "cell_type": "code",
   "execution_count": null,
   "id": "40ccc78f-2e67-4cfb-8451-84f95fcd08d3",
   "metadata": {},
   "outputs": [],
   "source": [
    "# Create figure\n",
    "fig, ax = plt.subplots(2, 2, figsize=(12, 9))\n",
    "\n",
    "osyris.histogram2d(data[\"amr\"][\"position\"].r.to(\"au\"), data[\"hydro\"][\"velocity\"].r.to(\"km/s\"),\n",
    "                   norm=\"log\", logx=True, cmap=\"viridis\", ax=ax[0][0])\n",
    "osyris.histogram2d(data[\"amr\"][\"position\"].r.to(\"au\"), data[\"hydro\"][\"B_field\"].r.to(\"G\"),\n",
    "                   norm=\"log\", logx=True, cmap=\"viridis\", ax=ax[0][1])\n",
    "osyris.histogram2d(data[\"amr\"][\"position\"].r.to(\"au\"), data[\"hydro\"][\"velocity\"].phi.to(\"km/s\"),\n",
    "                   norm=\"log\", logx=True, cmap=\"viridis\", ax=ax[1][0])\n",
    "osyris.histogram2d(data[\"amr\"][\"position\"].r.to(\"au\"), data[\"hydro\"][\"B_field\"].theta.to(\"G\"),\n",
    "                   norm=\"log\", logx=True, cmap=\"viridis\", ax=ax[1][1])\n",
    "\n",
    "ax[0][0].set_title(\"Radial velocity\")\n",
    "ax[0][1].set_title(\"Radial B field\")\n",
    "ax[1][0].set_title(\"Azimuthal velocity\")\n",
    "ax[1][1].set_title(\"Poloidal B field\")\n",
    "\n",
    "fig.tight_layout()"
   ]
  }
 ],
 "metadata": {
  "kernelspec": {
   "display_name": "Python 3 (ipykernel)",
   "language": "python",
   "name": "python3"
  },
  "language_info": {
   "codemirror_mode": {
    "name": "ipython",
    "version": 3
   },
   "file_extension": ".py",
   "mimetype": "text/x-python",
   "name": "python",
   "nbconvert_exporter": "python",
   "pygments_lexer": "ipython3",
   "version": "3.8.8"
  }
 },
 "nbformat": 4,
 "nbformat_minor": 5
}
