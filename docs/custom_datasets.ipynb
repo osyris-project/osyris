{
 "cells": [
  {
   "cell_type": "markdown",
   "id": "7b0dd731-ae95-4374-bdcc-21c12cecd5a8",
   "metadata": {},
   "source": [
    "# Custom datasets\n",
    "\n",
    "In the previous notebook, we showed how to load data from a Ramses simulation.\n",
    "\n",
    "This notebook will show how to create a `Datagroup` from scratch, using Numpy arrays.\n",
    "This is useful if you want to load data created by a program other than Ramses, for example."
   ]
  },
  {
   "cell_type": "code",
   "execution_count": null,
   "id": "e39a333b-2a96-4794-9fee-3c947ca1032d",
   "metadata": {},
   "outputs": [],
   "source": [
    "import numpy as np\n",
    "import osyris\n",
    "from osyris import Array, Vector"
   ]
  },
  {
   "cell_type": "markdown",
   "id": "c1a4a239-4a31-4eec-bf4e-7e2db5bdc65b",
   "metadata": {},
   "source": [
    "## Generate Arrays and Vector from random points\n",
    "\n",
    "The minimal data needed by osyris to be able to create most plots is:\n",
    "\n",
    "- `position`: positions in space\n",
    "- `dx`: cell size (the edge of a cube that represents a mesh cell)\n",
    "- any scalar or vector value (we will make a `density` here)\n",
    "\n",
    "We create x, y, and z positions using ramdon values with a normal distribution, and a unique size for all cells.\n",
    "We also create some fake density values, that correlate to the absolute value of the x position."
   ]
  },
  {
   "cell_type": "code",
   "execution_count": null,
   "id": "45b066a2-c574-4d33-a1a5-9b696223f9f5",
   "metadata": {},
   "outputs": [],
   "source": [
    "N = 100_000\n",
    "x = Array(values=np.random.normal(size=N), unit=\"m\")\n",
    "y = Array(values=np.random.normal(size=N), unit=\"m\")\n",
    "z = Array(values=np.random.normal(size=N), unit=\"m\")\n",
    "\n",
    "dx = Array(values=np.full(N, 0.1), unit=\"m\")\n",
    "\n",
    "density = Array(values=np.abs(x.values), unit=\"g/cm^3\")\n",
    "\n",
    "pos = Vector(x, y, z)"
   ]
  },
  {
   "cell_type": "markdown",
   "id": "62c2a6de-9e02-43a0-9ee1-4886af4bde03",
   "metadata": {},
   "source": [
    "We now populate a `Datagroup` with all 3:"
   ]
  },
  {
   "cell_type": "code",
   "execution_count": null,
   "id": "84006a86-8b11-4b7e-a4f0-4429adc250ba",
   "metadata": {},
   "outputs": [],
   "source": [
    "dg = osyris.Datagroup(position=pos, dx=dx, density=density)\n",
    "dg"
   ]
  },
  {
   "cell_type": "markdown",
   "id": "de05a51b-eaba-469d-94c5-24d8bbe37c4f",
   "metadata": {},
   "source": [
    "## Visualization\n",
    "\n",
    "We can now visualize the data.\n",
    "\n",
    "### Plotting a map\n",
    "\n",
    "To plot a map of the particle densities, use"
   ]
  },
  {
   "cell_type": "code",
   "execution_count": null,
   "id": "76ada4c5-6d9e-47c6-acbd-4288cc3f480c",
   "metadata": {},
   "outputs": [],
   "source": [
    "osyris.map(dg.layer(\"density\"), norm=\"log\", direction=\"z\")"
   ]
  },
  {
   "cell_type": "markdown",
   "id": "69ca2994-e9a0-4d68-bd98-45684427b542",
   "metadata": {},
   "source": [
    "### Plotting a histogram\n",
    "\n",
    "A one-dimensional histogram is obtained with"
   ]
  },
  {
   "cell_type": "code",
   "execution_count": null,
   "id": "385cd723-1ea5-4862-99f3-46dee18a47d3",
   "metadata": {},
   "outputs": [],
   "source": [
    "osyris.hist1d(dg[\"density\"])"
   ]
  },
  {
   "cell_type": "markdown",
   "id": "c5ad4c80-3562-41d9-b12a-644d8a001933",
   "metadata": {},
   "source": [
    "The rest of the documentation focuses on all the different plotting methods that are available."
   ]
  }
 ],
 "metadata": {
  "kernelspec": {
   "display_name": "Python 3 (ipykernel)",
   "language": "python",
   "name": "python3"
  },
  "language_info": {
   "codemirror_mode": {
    "name": "ipython",
    "version": 3
   },
   "file_extension": ".py",
   "mimetype": "text/x-python",
   "name": "python",
   "nbconvert_exporter": "python",
   "pygments_lexer": "ipython3"
  }
 },
 "nbformat": 4,
 "nbformat_minor": 5
}
